{
 "cells": [
  {
   "cell_type": "code",
   "execution_count": 90,
   "metadata": {},
   "outputs": [],
   "source": [
    "# Hypothesis:  The 5-dimensional OCEAN data set can be represented in 3 dimensions visualized by 27 clusters of points in a 3x3x3 cube.\n",
    "# Experiment:  Apply machine learning tools that use a dimensionality reduction technique like Principal Component Analysis (PCA) to the Kaggle OCEAN data set. Python provides several machine learning libraries that offer implementations of these dimensionality reduction techniques, such as scikit-learn, TensorFlow, and PyTorch. You can leverage these libraries to apply dimensionality reduction to a 5-dimensional dataset and visualize it in a 3-dimensional space.\n",
    "# Data set:  https://1drv.ms/u/s!Aj7B9GbKP2y3icRAAZT8i8hNRDq5Vg?e=tMAh8W\n",
    "# (Reference: https://www.kaggle.com/datasets/tunguz/big-five-personality-test )"
   ]
  },
  {
   "cell_type": "code",
   "execution_count": 91,
   "metadata": {},
   "outputs": [],
   "source": [
    "import pandas as pd\n",
    "import numpy as np\n",
    "from sklearn.decomposition import PCA\n",
    "import plotly.express as px\n",
    "pd.options.plotting.backend = \"plotly\""
   ]
  },
  {
   "cell_type": "markdown",
   "metadata": {},
   "source": [
    "## Preprocessing / EDA / Data Cleaning"
   ]
  },
  {
   "cell_type": "code",
   "execution_count": 92,
   "metadata": {},
   "outputs": [
    {
     "name": "stdout",
     "output_type": "stream",
     "text": [
      "<class 'pandas.core.frame.DataFrame'>\n",
      "RangeIndex: 10000 entries, 0 to 9999\n",
      "Columns: 110 entries, EXT1 to long_appx_lots_of_err\n",
      "dtypes: float64(104), int64(2), object(4)\n",
      "memory usage: 8.4+ MB\n"
     ]
    }
   ],
   "source": [
    "df = pd.read_csv(\"data/data-subset.csv\", sep=\"\\t\")\n",
    "df.info()"
   ]
  },
  {
   "cell_type": "code",
   "execution_count": 133,
   "metadata": {},
   "outputs": [
    {
     "data": {
      "text/plain": [
       "Index(['EXT1', 'EXT2', 'EXT3', 'EXT4', 'EXT5', 'EXT6', 'EXT7', 'EXT8', 'EXT9',\n",
       "       'EXT10', 'EST1', 'EST2', 'EST3', 'EST4', 'EST5', 'EST6', 'EST7', 'EST8',\n",
       "       'EST9', 'EST10', 'AGR1', 'AGR2', 'AGR3', 'AGR4', 'AGR5', 'AGR6', 'AGR7',\n",
       "       'AGR8', 'AGR9', 'AGR10', 'CSN1', 'CSN2', 'CSN3', 'CSN4', 'CSN5', 'CSN6',\n",
       "       'CSN7', 'CSN8', 'CSN9', 'CSN10', 'OPN1', 'OPN2', 'OPN3', 'OPN4', 'OPN5',\n",
       "       'OPN6', 'OPN7', 'OPN8', 'OPN9', 'OPN10'],\n",
       "      dtype='object')"
      ]
     },
     "execution_count": 133,
     "metadata": {},
     "output_type": "execute_result"
    }
   ],
   "source": [
    "# first 50 columns are the columns of interest\n",
    "df.columns[:50]"
   ]
  },
  {
   "cell_type": "code",
   "execution_count": 160,
   "metadata": {},
   "outputs": [
    {
     "name": "stdout",
     "output_type": "stream",
     "text": [
      "|    |   EXT1 |   EXT2 |   EXT3 |   EXT4 |   EXT5 |   EXT6 |   EXT7 |   EXT8 |   EXT9 |   EXT10 |   EST1 |   EST2 |   EST3 |   EST4 |   EST5 |   EST6 |   EST7 |   EST8 |   EST9 |   EST10 |   AGR1 |   AGR2 |   AGR3 |   AGR4 |   AGR5 |   AGR6 |   AGR7 |   AGR8 |   AGR9 |   AGR10 |   CSN1 |   CSN2 |   CSN3 |   CSN4 |   CSN5 |   CSN6 |   CSN7 |   CSN8 |   CSN9 |   CSN10 |   OPN1 |   OPN2 |   OPN3 |   OPN4 |   OPN5 |   OPN6 |   OPN7 |   OPN8 |   OPN9 |   OPN10 |\n",
      "|---:|-------:|-------:|-------:|-------:|-------:|-------:|-------:|-------:|-------:|--------:|-------:|-------:|-------:|-------:|-------:|-------:|-------:|-------:|-------:|--------:|-------:|-------:|-------:|-------:|-------:|-------:|-------:|-------:|-------:|--------:|-------:|-------:|-------:|-------:|-------:|-------:|-------:|-------:|-------:|--------:|-------:|-------:|-------:|-------:|-------:|-------:|-------:|-------:|-------:|--------:|\n",
      "|  0 |      1 |      5 |      1 |      5 |      1 |      1 |      1 |      5 |      1 |       5 |      4 |      2 |      4 |      2 |      4 |      4 |      4 |      4 |      4 |       4 |      4 |      4 |      2 |      1 |      4 |      2 |      5 |      2 |      1 |       2 |      2 |      4 |      4 |      3 |      1 |      4 |      4 |      4 |      2 |       4 |      4 |      2 |      4 |      2 |      5 |      1 |      5 |      4 |      4 |       4 |\n",
      "|  1 |      5 |      2 |      4 |      2 |      0 |      2 |      5 |      2 |      5 |       4 |      5 |      5 |      5 |      5 |      2 |      4 |      2 |      2 |      2 |       1 |      2 |      4 |      1 |      4 |      2 |      2 |      1 |      4 |      2 |       3 |      1 |      4 |      4 |      1 |      1 |      1 |      4 |      3 |      4 |       2 |      3 |      1 |      3 |      1 |      4 |      4 |      4 |      2 |      4 |       2 |\n",
      "|  2 |      4 |      1 |      5 |      2 |      5 |      2 |      4 |      4 |      4 |       2 |      2 |      5 |      2 |      0 |      1 |      2 |      4 |      1 |      2 |       3 |      1 |      5 |      1 |      5 |      1 |      5 |      1 |      5 |      5 |       5 |      1 |      5 |      2 |      4 |      4 |      1 |      2 |      2 |      0 |       2 |      4 |      5 |      5 |      4 |      4 |      1 |      2 |      2 |      4 |       4 |\n",
      "|  3 |      1 |      3 |      3 |      4 |      4 |      3 |      2 |      5 |      1 |       5 |      5 |      3 |      5 |      1 |      1 |      4 |      2 |      2 |      5 |       5 |      2 |      3 |      3 |      4 |      2 |      3 |      2 |      3 |      3 |       3 |      2 |      5 |      4 |      5 |      1 |      3 |      4 |      4 |      2 |       3 |      4 |      3 |      4 |      2 |      3 |      2 |      3 |      3 |      3 |       4 |\n",
      "|  4 |      2 |      1 |      4 |      2 |      4 |      2 |      4 |      3 |      2 |       4 |      3 |      3 |      4 |      2 |      4 |      4 |      4 |      3 |      3 |       3 |      1 |      5 |      1 |      4 |      1 |      4 |      1 |      4 |      5 |       4 |      4 |      4 |      4 |      2 |      2 |      4 |      2 |      2 |      2 |       2 |      4 |      1 |      5 |      1 |      5 |      1 |      5 |      2 |      4 |       4 |\n"
     ]
    }
   ],
   "source": [
    "df_sub = df[df.columns[:50]]\n",
    "df_sub.head()\n",
    "print(df_sub.head().to_markdown())"
   ]
  },
  {
   "cell_type": "code",
   "execution_count": 135,
   "metadata": {},
   "outputs": [],
   "source": [
    "# There are 0 values that need to be dealt with\n",
    "# The data range is 1-5, which means 0 values should be treated as missing\n",
    "df_sub = df_sub.replace(0, np.NaN)\n",
    "# df_sub = df_sub.dropna()"
   ]
  },
  {
   "cell_type": "code",
   "execution_count": 136,
   "metadata": {},
   "outputs": [
    {
     "name": "stdout",
     "output_type": "stream",
     "text": [
      "(10000, 50)\n"
     ]
    },
    {
     "data": {
      "text/html": [
       "<div>\n",
       "<style scoped>\n",
       "    .dataframe tbody tr th:only-of-type {\n",
       "        vertical-align: middle;\n",
       "    }\n",
       "\n",
       "    .dataframe tbody tr th {\n",
       "        vertical-align: top;\n",
       "    }\n",
       "\n",
       "    .dataframe thead th {\n",
       "        text-align: right;\n",
       "    }\n",
       "</style>\n",
       "<table border=\"1\" class=\"dataframe\">\n",
       "  <thead>\n",
       "    <tr style=\"text-align: right;\">\n",
       "      <th></th>\n",
       "      <th>EXT1</th>\n",
       "      <th>EXT2</th>\n",
       "      <th>EXT3</th>\n",
       "      <th>EXT4</th>\n",
       "      <th>EXT5</th>\n",
       "      <th>EXT6</th>\n",
       "      <th>EXT7</th>\n",
       "      <th>EXT8</th>\n",
       "      <th>EXT9</th>\n",
       "      <th>EXT10</th>\n",
       "      <th>...</th>\n",
       "      <th>OPN1</th>\n",
       "      <th>OPN2</th>\n",
       "      <th>OPN3</th>\n",
       "      <th>OPN4</th>\n",
       "      <th>OPN5</th>\n",
       "      <th>OPN6</th>\n",
       "      <th>OPN7</th>\n",
       "      <th>OPN8</th>\n",
       "      <th>OPN9</th>\n",
       "      <th>OPN10</th>\n",
       "    </tr>\n",
       "  </thead>\n",
       "  <tbody>\n",
       "    <tr>\n",
       "      <th>0</th>\n",
       "      <td>-1.0</td>\n",
       "      <td>1.0</td>\n",
       "      <td>-1.0</td>\n",
       "      <td>1.0</td>\n",
       "      <td>-1.0</td>\n",
       "      <td>-1.0</td>\n",
       "      <td>-1.0</td>\n",
       "      <td>1.0</td>\n",
       "      <td>-1.0</td>\n",
       "      <td>1.0</td>\n",
       "      <td>...</td>\n",
       "      <td>0.5</td>\n",
       "      <td>-0.5</td>\n",
       "      <td>0.5</td>\n",
       "      <td>-0.5</td>\n",
       "      <td>1.0</td>\n",
       "      <td>-1.0</td>\n",
       "      <td>1.0</td>\n",
       "      <td>0.5</td>\n",
       "      <td>0.5</td>\n",
       "      <td>0.5</td>\n",
       "    </tr>\n",
       "    <tr>\n",
       "      <th>1</th>\n",
       "      <td>1.0</td>\n",
       "      <td>-0.5</td>\n",
       "      <td>0.5</td>\n",
       "      <td>-0.5</td>\n",
       "      <td>NaN</td>\n",
       "      <td>-0.5</td>\n",
       "      <td>1.0</td>\n",
       "      <td>-0.5</td>\n",
       "      <td>1.0</td>\n",
       "      <td>0.5</td>\n",
       "      <td>...</td>\n",
       "      <td>0.0</td>\n",
       "      <td>-1.0</td>\n",
       "      <td>0.0</td>\n",
       "      <td>-1.0</td>\n",
       "      <td>0.5</td>\n",
       "      <td>0.5</td>\n",
       "      <td>0.5</td>\n",
       "      <td>-0.5</td>\n",
       "      <td>0.5</td>\n",
       "      <td>-0.5</td>\n",
       "    </tr>\n",
       "    <tr>\n",
       "      <th>2</th>\n",
       "      <td>0.5</td>\n",
       "      <td>-1.0</td>\n",
       "      <td>1.0</td>\n",
       "      <td>-0.5</td>\n",
       "      <td>1.0</td>\n",
       "      <td>-0.5</td>\n",
       "      <td>0.5</td>\n",
       "      <td>0.5</td>\n",
       "      <td>0.5</td>\n",
       "      <td>-0.5</td>\n",
       "      <td>...</td>\n",
       "      <td>0.5</td>\n",
       "      <td>1.0</td>\n",
       "      <td>1.0</td>\n",
       "      <td>0.5</td>\n",
       "      <td>0.5</td>\n",
       "      <td>-1.0</td>\n",
       "      <td>-0.5</td>\n",
       "      <td>-0.5</td>\n",
       "      <td>0.5</td>\n",
       "      <td>0.5</td>\n",
       "    </tr>\n",
       "    <tr>\n",
       "      <th>3</th>\n",
       "      <td>-1.0</td>\n",
       "      <td>0.0</td>\n",
       "      <td>0.0</td>\n",
       "      <td>0.5</td>\n",
       "      <td>0.5</td>\n",
       "      <td>0.0</td>\n",
       "      <td>-0.5</td>\n",
       "      <td>1.0</td>\n",
       "      <td>-1.0</td>\n",
       "      <td>1.0</td>\n",
       "      <td>...</td>\n",
       "      <td>0.5</td>\n",
       "      <td>0.0</td>\n",
       "      <td>0.5</td>\n",
       "      <td>-0.5</td>\n",
       "      <td>0.0</td>\n",
       "      <td>-0.5</td>\n",
       "      <td>0.0</td>\n",
       "      <td>0.0</td>\n",
       "      <td>0.0</td>\n",
       "      <td>0.5</td>\n",
       "    </tr>\n",
       "    <tr>\n",
       "      <th>4</th>\n",
       "      <td>-0.5</td>\n",
       "      <td>-1.0</td>\n",
       "      <td>0.5</td>\n",
       "      <td>-0.5</td>\n",
       "      <td>0.5</td>\n",
       "      <td>-0.5</td>\n",
       "      <td>0.5</td>\n",
       "      <td>0.0</td>\n",
       "      <td>-0.5</td>\n",
       "      <td>0.5</td>\n",
       "      <td>...</td>\n",
       "      <td>0.5</td>\n",
       "      <td>-1.0</td>\n",
       "      <td>1.0</td>\n",
       "      <td>-1.0</td>\n",
       "      <td>1.0</td>\n",
       "      <td>-1.0</td>\n",
       "      <td>1.0</td>\n",
       "      <td>-0.5</td>\n",
       "      <td>0.5</td>\n",
       "      <td>0.5</td>\n",
       "    </tr>\n",
       "  </tbody>\n",
       "</table>\n",
       "<p>5 rows × 50 columns</p>\n",
       "</div>"
      ],
      "text/plain": [
       "   EXT1  EXT2  EXT3  EXT4  EXT5  EXT6  EXT7  EXT8  EXT9  EXT10  ...  OPN1  \\\n",
       "0  -1.0   1.0  -1.0   1.0  -1.0  -1.0  -1.0   1.0  -1.0    1.0  ...   0.5   \n",
       "1   1.0  -0.5   0.5  -0.5   NaN  -0.5   1.0  -0.5   1.0    0.5  ...   0.0   \n",
       "2   0.5  -1.0   1.0  -0.5   1.0  -0.5   0.5   0.5   0.5   -0.5  ...   0.5   \n",
       "3  -1.0   0.0   0.0   0.5   0.5   0.0  -0.5   1.0  -1.0    1.0  ...   0.5   \n",
       "4  -0.5  -1.0   0.5  -0.5   0.5  -0.5   0.5   0.0  -0.5    0.5  ...   0.5   \n",
       "\n",
       "   OPN2  OPN3  OPN4  OPN5  OPN6  OPN7  OPN8  OPN9  OPN10  \n",
       "0  -0.5   0.5  -0.5   1.0  -1.0   1.0   0.5   0.5    0.5  \n",
       "1  -1.0   0.0  -1.0   0.5   0.5   0.5  -0.5   0.5   -0.5  \n",
       "2   1.0   1.0   0.5   0.5  -1.0  -0.5  -0.5   0.5    0.5  \n",
       "3   0.0   0.5  -0.5   0.0  -0.5   0.0   0.0   0.0    0.5  \n",
       "4  -1.0   1.0  -1.0   1.0  -1.0   1.0  -0.5   0.5    0.5  \n",
       "\n",
       "[5 rows x 50 columns]"
      ]
     },
     "execution_count": 136,
     "metadata": {},
     "output_type": "execute_result"
    }
   ],
   "source": [
    "# Normalizing data points between -1 & 1\n",
    "# We want 1 -> -1, 3-> 0, & 5 -> 1\n",
    "df_norm = (df_sub - 3) / 2 # assuming mean is 3 and range is 1-5\n",
    "print(df_norm.shape)\n",
    "df_norm.head()"
   ]
  },
  {
   "cell_type": "code",
   "execution_count": 137,
   "metadata": {},
   "outputs": [],
   "source": [
    "\"\"\"\n",
    "Polarity of answers\n",
    "\n",
    "+ EXT1\tI am the life of the party.\n",
    "- EXT2\tI don't talk a lot.\n",
    "+ EXT3\tI feel comfortable around people.\n",
    "- EXT4\tI keep in the background.\n",
    "+ EXT5\tI start conversations.\n",
    "- EXT6\tI have little to say.\n",
    "+ EXT7\tI talk to a lot of different people at parties.\n",
    "- EXT8\tI don't like to draw attention to myself.\n",
    "+ EXT9\tI don't mind being the center of attention.\n",
    "- EXT10\tI am quiet around strangers.\n",
    "\n",
    "+ EST1\tI get stressed out easily.\n",
    "- EST2\tI am relaxed most of the time.\n",
    "+ EST3\tI worry about things.\n",
    "- EST4\tI seldom feel blue.\n",
    "+ EST5\tI am easily disturbed.\n",
    "+ EST6\tI get upset easily.\n",
    "+ EST7\tI change my mood a lot.\n",
    "+ EST8\tI have frequent mood swings.\n",
    "+ EST9\tI get irritated easily.\n",
    "+ EST10\tI often feel blue.\n",
    "\n",
    "- AGR1\tI feel little concern for others.\n",
    "+ AGR2\tI am interested in people.\n",
    "- AGR3\tI insult people.\n",
    "+ AGR4\tI sympathize with others' feelings.\n",
    "- AGR5\tI am not interested in other people's problems.\n",
    "+ AGR6\tI have a soft heart.\n",
    "- AGR7\tI am not really interested in others.\n",
    "+ AGR8\tI take time out for others.\n",
    "+ AGR9\tI feel others' emotions.\n",
    "+ AGR10\tI make people feel at ease.\n",
    "\n",
    "+ CSN1\tI am always prepared.\n",
    "- CSN2\tI leave my belongings around.\n",
    "+ CSN3\tI pay attention to details.\n",
    "- CSN4\tI make a mess of things.\n",
    "+ CSN5\tI get chores done right away.\n",
    "- CSN6\tI often forget to put things back in their proper place.\n",
    "+ CSN7\tI like order.\n",
    "- CSN8\tI shirk my duties.\n",
    "+ CSN9\tI follow a schedule.\n",
    "+ CSN10\tI am exacting in my work.\n",
    "\n",
    "+ OPN1\tI have a rich vocabulary.\n",
    "- OPN2\tI have difficulty understanding abstract ideas.\n",
    "+ OPN3\tI have a vivid imagination.\n",
    "- OPN4\tI am not interested in abstract ideas.\n",
    "+ OPN5\tI have excellent ideas.\n",
    "- OPN6\tI do not have a good imagination.\n",
    "+ OPN7\tI am quick to understand things.\n",
    "+ OPN8\tI use difficult words.\n",
    "+ OPN9\tI spend time reflecting on things.\n",
    "+ OPN10\tI am full of ideas.\n",
    "\"\"\"\n",
    "\n",
    "polarity_dict = {\n",
    "    \"EXT1\": 1,\n",
    "    \"EXT2\": -1,\n",
    "    \"EXT3\": 1,\n",
    "    \"EXT4\": -1,\n",
    "    \"EXT5\": 1,\n",
    "    \"EXT6\": -1,\n",
    "    \"EXT7\": 1,\n",
    "    \"EXT8\": -1,\n",
    "    \"EXT9\": 1,\n",
    "    \"EXT10\": -1,\n",
    "    \n",
    "    \"EST1\": 1,\n",
    "    \"EST2\": -1,\n",
    "    \"EST3\": 1,\n",
    "    \"EST4\": -1,\n",
    "    \"EST5\": 1,\n",
    "    \"EST6\": 1,\n",
    "    \"EST7\": 1,\n",
    "    \"EST8\": 1,\n",
    "    \"EST9\": 1,\n",
    "    \"EST10\": 1,\n",
    "    \n",
    "    \"AGR1\": -1,\n",
    "    \"AGR2\": 1,\n",
    "    \"AGR3\": -1,\n",
    "    \"AGR4\": 1,\n",
    "    \"AGR5\": -1,\n",
    "    \"AGR6\": 1,\n",
    "    \"AGR7\": -1,\n",
    "    \"AGR8\": 1,\n",
    "    \"AGR9\": 1,\n",
    "    \"AGR10\": 1,\n",
    "    \n",
    "    \"CSN1\": 1,\n",
    "    \"CSN2\": -1,\n",
    "    \"CSN3\": 1,\n",
    "    \"CSN4\": -1,\n",
    "    \"CSN5\": 1,\n",
    "    \"CSN6\": -1,\n",
    "    \"CSN7\": 1,\n",
    "    \"CSN8\": -1,\n",
    "    \"CSN9\": 1,\n",
    "    \"CSN10\": 1,\n",
    "    \n",
    "    \"OPN1\": 1,\n",
    "    \"OPN2\": -1,\n",
    "    \"OPN3\": 1,\n",
    "    \"OPN4\": -1,\n",
    "    \"OPN5\": 1,\n",
    "    \"OPN6\": -1,\n",
    "    \"OPN7\": 1,\n",
    "    \"OPN8\": 1,\n",
    "    \"OPN9\": 1,\n",
    "    \"OPN10\": 1,\n",
    "}\n"
   ]
  },
  {
   "cell_type": "code",
   "execution_count": 138,
   "metadata": {},
   "outputs": [
    {
     "data": {
      "text/html": [
       "<div>\n",
       "<style scoped>\n",
       "    .dataframe tbody tr th:only-of-type {\n",
       "        vertical-align: middle;\n",
       "    }\n",
       "\n",
       "    .dataframe tbody tr th {\n",
       "        vertical-align: top;\n",
       "    }\n",
       "\n",
       "    .dataframe thead th {\n",
       "        text-align: right;\n",
       "    }\n",
       "</style>\n",
       "<table border=\"1\" class=\"dataframe\">\n",
       "  <thead>\n",
       "    <tr style=\"text-align: right;\">\n",
       "      <th></th>\n",
       "      <th>EXT1</th>\n",
       "      <th>EXT2</th>\n",
       "      <th>EXT3</th>\n",
       "      <th>EXT4</th>\n",
       "      <th>EXT5</th>\n",
       "      <th>EXT6</th>\n",
       "      <th>EXT7</th>\n",
       "      <th>EXT8</th>\n",
       "      <th>EXT9</th>\n",
       "      <th>EXT10</th>\n",
       "      <th>...</th>\n",
       "      <th>OPN1</th>\n",
       "      <th>OPN2</th>\n",
       "      <th>OPN3</th>\n",
       "      <th>OPN4</th>\n",
       "      <th>OPN5</th>\n",
       "      <th>OPN6</th>\n",
       "      <th>OPN7</th>\n",
       "      <th>OPN8</th>\n",
       "      <th>OPN9</th>\n",
       "      <th>OPN10</th>\n",
       "    </tr>\n",
       "  </thead>\n",
       "  <tbody>\n",
       "    <tr>\n",
       "      <th>0</th>\n",
       "      <td>-1.0</td>\n",
       "      <td>-1.0</td>\n",
       "      <td>-1.0</td>\n",
       "      <td>-1.0</td>\n",
       "      <td>-1.0</td>\n",
       "      <td>1.0</td>\n",
       "      <td>-1.0</td>\n",
       "      <td>-1.0</td>\n",
       "      <td>-1.0</td>\n",
       "      <td>-1.0</td>\n",
       "      <td>...</td>\n",
       "      <td>0.5</td>\n",
       "      <td>0.5</td>\n",
       "      <td>0.5</td>\n",
       "      <td>0.5</td>\n",
       "      <td>1.0</td>\n",
       "      <td>1.0</td>\n",
       "      <td>1.0</td>\n",
       "      <td>0.5</td>\n",
       "      <td>0.5</td>\n",
       "      <td>0.5</td>\n",
       "    </tr>\n",
       "    <tr>\n",
       "      <th>1</th>\n",
       "      <td>1.0</td>\n",
       "      <td>0.5</td>\n",
       "      <td>0.5</td>\n",
       "      <td>0.5</td>\n",
       "      <td>NaN</td>\n",
       "      <td>0.5</td>\n",
       "      <td>1.0</td>\n",
       "      <td>0.5</td>\n",
       "      <td>1.0</td>\n",
       "      <td>-0.5</td>\n",
       "      <td>...</td>\n",
       "      <td>0.0</td>\n",
       "      <td>1.0</td>\n",
       "      <td>0.0</td>\n",
       "      <td>1.0</td>\n",
       "      <td>0.5</td>\n",
       "      <td>-0.5</td>\n",
       "      <td>0.5</td>\n",
       "      <td>-0.5</td>\n",
       "      <td>0.5</td>\n",
       "      <td>-0.5</td>\n",
       "    </tr>\n",
       "    <tr>\n",
       "      <th>2</th>\n",
       "      <td>0.5</td>\n",
       "      <td>1.0</td>\n",
       "      <td>1.0</td>\n",
       "      <td>0.5</td>\n",
       "      <td>1.0</td>\n",
       "      <td>0.5</td>\n",
       "      <td>0.5</td>\n",
       "      <td>-0.5</td>\n",
       "      <td>0.5</td>\n",
       "      <td>0.5</td>\n",
       "      <td>...</td>\n",
       "      <td>0.5</td>\n",
       "      <td>-1.0</td>\n",
       "      <td>1.0</td>\n",
       "      <td>-0.5</td>\n",
       "      <td>0.5</td>\n",
       "      <td>1.0</td>\n",
       "      <td>-0.5</td>\n",
       "      <td>-0.5</td>\n",
       "      <td>0.5</td>\n",
       "      <td>0.5</td>\n",
       "    </tr>\n",
       "    <tr>\n",
       "      <th>3</th>\n",
       "      <td>-1.0</td>\n",
       "      <td>-0.0</td>\n",
       "      <td>0.0</td>\n",
       "      <td>-0.5</td>\n",
       "      <td>0.5</td>\n",
       "      <td>-0.0</td>\n",
       "      <td>-0.5</td>\n",
       "      <td>-1.0</td>\n",
       "      <td>-1.0</td>\n",
       "      <td>-1.0</td>\n",
       "      <td>...</td>\n",
       "      <td>0.5</td>\n",
       "      <td>-0.0</td>\n",
       "      <td>0.5</td>\n",
       "      <td>0.5</td>\n",
       "      <td>0.0</td>\n",
       "      <td>0.5</td>\n",
       "      <td>0.0</td>\n",
       "      <td>0.0</td>\n",
       "      <td>0.0</td>\n",
       "      <td>0.5</td>\n",
       "    </tr>\n",
       "    <tr>\n",
       "      <th>4</th>\n",
       "      <td>-0.5</td>\n",
       "      <td>1.0</td>\n",
       "      <td>0.5</td>\n",
       "      <td>0.5</td>\n",
       "      <td>0.5</td>\n",
       "      <td>0.5</td>\n",
       "      <td>0.5</td>\n",
       "      <td>-0.0</td>\n",
       "      <td>-0.5</td>\n",
       "      <td>-0.5</td>\n",
       "      <td>...</td>\n",
       "      <td>0.5</td>\n",
       "      <td>1.0</td>\n",
       "      <td>1.0</td>\n",
       "      <td>1.0</td>\n",
       "      <td>1.0</td>\n",
       "      <td>1.0</td>\n",
       "      <td>1.0</td>\n",
       "      <td>-0.5</td>\n",
       "      <td>0.5</td>\n",
       "      <td>0.5</td>\n",
       "    </tr>\n",
       "  </tbody>\n",
       "</table>\n",
       "<p>5 rows × 50 columns</p>\n",
       "</div>"
      ],
      "text/plain": [
       "   EXT1  EXT2  EXT3  EXT4  EXT5  EXT6  EXT7  EXT8  EXT9  EXT10  ...  OPN1  \\\n",
       "0  -1.0  -1.0  -1.0  -1.0  -1.0   1.0  -1.0  -1.0  -1.0   -1.0  ...   0.5   \n",
       "1   1.0   0.5   0.5   0.5   NaN   0.5   1.0   0.5   1.0   -0.5  ...   0.0   \n",
       "2   0.5   1.0   1.0   0.5   1.0   0.5   0.5  -0.5   0.5    0.5  ...   0.5   \n",
       "3  -1.0  -0.0   0.0  -0.5   0.5  -0.0  -0.5  -1.0  -1.0   -1.0  ...   0.5   \n",
       "4  -0.5   1.0   0.5   0.5   0.5   0.5   0.5  -0.0  -0.5   -0.5  ...   0.5   \n",
       "\n",
       "   OPN2  OPN3  OPN4  OPN5  OPN6  OPN7  OPN8  OPN9  OPN10  \n",
       "0   0.5   0.5   0.5   1.0   1.0   1.0   0.5   0.5    0.5  \n",
       "1   1.0   0.0   1.0   0.5  -0.5   0.5  -0.5   0.5   -0.5  \n",
       "2  -1.0   1.0  -0.5   0.5   1.0  -0.5  -0.5   0.5    0.5  \n",
       "3  -0.0   0.5   0.5   0.0   0.5   0.0   0.0   0.0    0.5  \n",
       "4   1.0   1.0   1.0   1.0   1.0   1.0  -0.5   0.5    0.5  \n",
       "\n",
       "[5 rows x 50 columns]"
      ]
     },
     "execution_count": 138,
     "metadata": {},
     "output_type": "execute_result"
    }
   ],
   "source": [
    "# accounting for polarity\n",
    "df_cp = df_norm.copy()\n",
    "for col in df_norm.columns:\n",
    "    df_cp[col] = df_norm[col] * polarity_dict[col]\n",
    "df_cp.head()"
   ]
  },
  {
   "cell_type": "code",
   "execution_count": 162,
   "metadata": {},
   "outputs": [
    {
     "name": "stdout",
     "output_type": "stream",
     "text": [
      "|    |       EXT |   EST |   AGR |       CSN |   OPN |\n",
      "|---:|----------:|------:|------:|----------:|------:|\n",
      "|  0 | -0.8      |  0.5  | -0.45 | -0.2      |  0.65 |\n",
      "|  1 |  0.555556 | -0.25 |  0.35 |  0.05     |  0.2  |\n",
      "|  2 |  0.55     | -0.5  |  1    | -0.222222 |  0.15 |\n",
      "|  3 | -0.45     |  0.35 |  0.2  | -0.35     |  0.25 |\n",
      "|  4 |  0.2      |  0.25 |  0.8  | -0.1      |  0.7  |\n"
     ]
    }
   ],
   "source": [
    "df_T = df_cp.T\n",
    "df_T[\"type\"] = df_T.index.str.slice(0,3)\n",
    "df_E = df_T.groupby(\"type\", sort=False).mean().T\n",
    "# NOTE: Mean is taken ignoring np.NaN values. \n",
    "# Effectively does the same thing as conditional mean imputation\n",
    "df_E.head()\n",
    "print(df_E.head().to_markdown())"
   ]
  },
  {
   "cell_type": "code",
   "execution_count": 164,
   "metadata": {},
   "outputs": [
    {
     "name": "stdout",
     "output_type": "stream",
     "text": [
      "type\n",
      "EXT    44\n",
      "EST    46\n",
      "AGR    46\n",
      "CSN    46\n",
      "OPN    48\n",
      "dtype: int64\n"
     ]
    }
   ],
   "source": [
    "print(df_E.isna().sum())\n",
    "# Still some nan values\n",
    "# Means that within certain responses, all values were missing for a trait\n",
    "df_ED = df_E.dropna(axis=0)"
   ]
  },
  {
   "cell_type": "code",
   "execution_count": 166,
   "metadata": {},
   "outputs": [
    {
     "name": "stdout",
     "output_type": "stream",
     "text": [
      "|       |         EXT |         EST |         AGR |         CSN |         OPN |\n",
      "|:------|------------:|------------:|------------:|------------:|------------:|\n",
      "| count | 9952        | 9952        | 9952        | 9952        | 9952        |\n",
      "| mean  |   -0.01278  |    0.029529 |    0.385407 |    0.181257 |    0.437619 |\n",
      "| std   |    0.454289 |    0.429102 |    0.365382 |    0.36919  |    0.318982 |\n",
      "| min   |   -1        |   -1        |   -1        |   -1        |   -0.95     |\n",
      "| 25%   |   -0.35     |   -0.277778 |    0.15     |   -0.1      |    0.2      |\n",
      "| 50%   |    0        |    0.05     |    0.45     |    0.2      |    0.45     |\n",
      "| 75%   |    0.3      |    0.35     |    0.65     |    0.45     |    0.7      |\n",
      "| max   |    1        |    1        |    1        |    1        |    1        |\n"
     ]
    }
   ],
   "source": [
    "df_ED.describe()\n",
    "print(df_ED.describe().to_markdown())"
   ]
  },
  {
   "cell_type": "code",
   "execution_count": 158,
   "metadata": {},
   "outputs": [
    {
     "name": "stdout",
     "output_type": "stream",
     "text": [
      "| type   |        EXT |        EST |        AGR |        CSN |        OPN |\n",
      "|:-------|-----------:|-----------:|-----------:|-----------:|-----------:|\n",
      "| EXT    |  1         | -0.215521  |  0.304984  |  0.0461086 |  0.149932  |\n",
      "| EST    | -0.215521  |  1         | -0.0573839 | -0.220419  | -0.090065  |\n",
      "| AGR    |  0.304984  | -0.0573839 |  1         |  0.15626   |  0.114062  |\n",
      "| CSN    |  0.0461086 | -0.220419  |  0.15626   |  1         |  0.0663948 |\n",
      "| OPN    |  0.149932  | -0.090065  |  0.114062  |  0.0663948 |  1         |\n"
     ]
    }
   ],
   "source": [
    "# Normalization\n",
    "df_EDN = (df_ED - df_ED.mean()) / df_ED.std()\n",
    "df_EDN.cov()\n",
    "print(df_EDN.cov().to_markdown())"
   ]
  },
  {
   "cell_type": "markdown",
   "metadata": {},
   "source": [
    "## PCA"
   ]
  },
  {
   "cell_type": "code",
   "execution_count": 151,
   "metadata": {},
   "outputs": [],
   "source": [
    "pca = PCA(n_components=3) # 3 principal components\n",
    "pca_data = pca.fit_transform(df_EDN)\n",
    "pca_df = pd.DataFrame(pca_data, columns=[\"PC1\", \"PC2\", \"PC3\"])"
   ]
  },
  {
   "cell_type": "code",
   "execution_count": 155,
   "metadata": {},
   "outputs": [
    {
     "name": "stdout",
     "output_type": "stream",
     "text": [
      "|     |   Proportion of Variance Explained |   Cumulative Proportion |\n",
      "|:----|-----------------------------------:|------------------------:|\n",
      "| PC1 |                           0.317035 |                0.317035 |\n",
      "| PC2 |                           0.206601 |                0.523636 |\n",
      "| PC3 |                           0.18338  |                0.707016 |\n"
     ]
    }
   ],
   "source": [
    "pd.DataFrame(index=[\"PC1\", \"PC2\", \"PC3\"], data={\"Proportion of Variance Explained\": pca.explained_variance_ratio_, \"Cumulative Proportion\": np.cumsum(pca.explained_variance_ratio_)})\n",
    "print(pd.DataFrame(index=[\"PC1\", \"PC2\", \"PC3\"], data={\"Proportion of Variance Explained\": pca.explained_variance_ratio_, \"Cumulative Proportion\": np.cumsum(pca.explained_variance_ratio_)}).to_markdown())"
   ]
  },
  {
   "cell_type": "code",
   "execution_count": 156,
   "metadata": {},
   "outputs": [
    {
     "name": "stdout",
     "output_type": "stream",
     "text": [
      "|     |       EXT |       EST |       AGR |       CSN |       OPN |\n",
      "|:----|----------:|----------:|----------:|----------:|----------:|\n",
      "| PC1 | -0.540406 |  0.444568 | -0.494664 | -0.381453 | -0.346586 |\n",
      "| PC2 | -0.364322 | -0.51093  | -0.36901  |  0.634714 | -0.25921  |\n",
      "| PC3 |  0.1468   |  0.160795 |  0.467782 |  0.140572 | -0.844994 |\n"
     ]
    }
   ],
   "source": [
    "pd.DataFrame(index=[\"PC1\", \"PC2\", \"PC3\"], data=pca.components_, columns=df_EDN.columns)\n",
    "print(pd.DataFrame(index=[\"PC1\", \"PC2\", \"PC3\"], data=pca.components_, columns=df_EDN.columns).to_markdown())"
   ]
  },
  {
   "cell_type": "code",
   "execution_count": 154,
   "metadata": {},
   "outputs": [
    {
     "data": {
      "application/vnd.plotly.v1+json": {
       "config": {
        "plotlyServerURL": "https://plot.ly"
       },
       "data": [
        {
         "hovertemplate": "PC1=%{x}<br>PC2=%{y}<br>PC3=%{z}<extra></extra>",
         "legendgroup": "",
         "marker": {
          "color": "#636efa",
          "symbol": "circle"
         },
         "mode": "markers",
         "name": "",
         "scene": "scene",
         "showlegend": false,
         "type": "scatter3d",
         "x": [
          1.3241667847973873,
          -0.35703056771399616,
          0.017271026803461452,
          2.3705891513292054,
          -2.061939925466836,
          -0.4361832125470274,
          -0.4972674036355475,
          -2.2410019451920227,
          0.19477142098183725,
          -0.9911484702301694,
          -0.3062362130766454,
          -2.032189418400652,
          -3.1942359840330616,
          -0.2145138794502203,
          0.7280462470116498,
          0.024562567739110995,
          1.5933366916325729,
          -1.4244379294070562,
          -0.9376876832130477,
          -1.668413301485647,
          -0.010645334519165689,
          -0.9627822858422601,
          -0.8414941885640075,
          -1.2830247551528584,
          3.1436238814609148,
          0.06877366227611381,
          0.5597831874157913,
          -2.2782779413087204,
          -2.1530602351841637,
          -1.6028543558272077,
          1.6537492935263969,
          0.5944980707311774,
          -2.5548868867281858,
          0.8070231171575102,
          -0.535782012073595,
          -1.0520136217006641,
          -1.41084712450393,
          1.4521785152048496,
          -1.62076111807267,
          1.7629398505033687,
          -4.1390158579904375,
          -0.6567544003794201,
          0.6163911656931425,
          2.5418229892879434,
          -1.4035448927200966,
          2.3555486548524485,
          2.105819785670137,
          -0.8910189280334068,
          -0.3917749361502576,
          -1.6325208368601625,
          0.9124216255784514,
          1.552421354378858,
          -1.135547578911852,
          0.7044741028710492,
          4.124066070729396,
          1.3128575057206238,
          2.6812766323918327,
          -1.3129985390380057,
          3.033493838949594,
          -1.477188085019024,
          -2.0291928291955506,
          1.0384335374124105,
          -0.9645793141577443,
          1.093745288690028,
          -0.3947862359624245,
          -1.0409063731119588,
          0.18664014808790655,
          0.4326926299588745,
          1.79331748350337,
          -1.9330261212555049,
          -0.9303656197220437,
          -1.9567754568314149,
          -0.40261944078935485,
          0.5243388024104276,
          -1.0918785265289677,
          0.48157062891039965,
          1.5594309995654712,
          -1.876545973545641,
          1.361102387170205,
          0.0881094199205535,
          0.7567278320492636,
          -2.513918281673519,
          -0.6115212701870613,
          -0.16571488841594892,
          -1.5139309523972884,
          0.08709544254122173,
          3.1917018935682657,
          0.21026640844033256,
          -0.31183101502535077,
          1.513269628696126,
          0.9261789840982522,
          -3.284090544622465,
          1.8929149677549542,
          0.8946541341514964,
          0.5191264461538507,
          1.089712069600311,
          -1.036261526265834,
          -1.1454036819029914,
          1.174552285728343,
          -0.09215614247234878,
          -0.12865904817987994,
          -0.4899775210749307,
          0.862688908259551,
          -0.05423361026340328,
          2.443264425071468,
          0.5704076912189676,
          3.29619380369891,
          1.1512274836045966,
          2.162977256104767,
          -2.5386804866880923,
          1.7275848380444563,
          0.28167594818468794,
          1.2569232722676733,
          -2.0643982083641794,
          3.8786800946954125,
          -1.5780767710106887,
          -0.8168202492696292,
          -0.6036919536321022,
          -1.1377953297845593,
          -0.13440188649210055,
          2.0416021979364847,
          1.3395204973776622,
          0.2535130944298063,
          1.3321711618945,
          2.196830674679191,
          1.5177152798776559,
          -1.4583489679873793,
          -0.270474686333834,
          -2.193799677903253,
          0.07737436795905828,
          1.672208740861537,
          1.539813798733645,
          -0.6306379210165907,
          -0.7874266827131424,
          0.42096860860703067,
          0.1360516389026899,
          -3.116508728059118,
          -1.3814482358444238,
          -1.667898518894245,
          0.00396263086876864,
          -0.17672662787533983,
          1.4094324181718325,
          0.8511714764560733,
          3.0674973096833815,
          -0.08740711709718284,
          0.7847686022446584,
          -0.4651287948997371,
          -0.8807289462585544,
          -0.31227822491050716,
          -0.11382789473494988,
          -0.7807729456077378,
          -1.0923766242685993,
          -1.06179463091099,
          -2.2911318180848737,
          1.5473760361345519,
          -0.9193504250239651,
          0.888844751570076,
          0.15857267377140113,
          0.3939371791800058,
          1.3610548153258435,
          1.119845919187632,
          1.23989884919393,
          -0.5205548754248406,
          2.0876900228926627,
          -1.1225162685720926,
          -0.39348937938639933,
          0.18309937190187667,
          2.0099488244976937,
          0.12696265045086383,
          -1.8031438865595049,
          -0.4915108001626662,
          -1.3609980369818049,
          -1.634214677157555,
          -0.10536495668355697,
          1.730913566955331,
          -0.9667131362777457,
          0.4693419755005246,
          -1.5918356288880533,
          0.15002295826363526,
          0.7656418495579049,
          0.08590950061989143,
          -0.6751509013351079,
          0.7921197965797925,
          -0.6019664600681441,
          0.25680417175265985,
          2.0092744339278257,
          -1.627680380674534,
          -1.818072480420885,
          -0.18849953966011085,
          2.3568579479000777,
          -0.6019095195458768,
          1.7194940878702918,
          -0.5899750138775687,
          -2.2367820230921196,
          -0.7580668887738028,
          -0.3913578197414941,
          -1.182881019221617,
          0.4781135908480021,
          0.008647539200486665,
          -1.1660390778263738,
          -2.241426897513266,
          -0.8755258247871702,
          -2.0107479830080557,
          -0.15503462654753575,
          0.2942306644859855,
          -1.121413107349123,
          0.5529558610562684,
          -0.10417212021840982,
          -0.8679135144566522,
          -0.28856007602391187,
          0.07530875589105222,
          0.17566578443231792,
          -0.48304023930480194,
          1.2439866401474924,
          1.9144566269749712,
          -0.013436302940745718,
          -0.5472317943728902,
          -1.2873109702085062,
          1.240066930941401,
          -0.3287375509764171,
          0.7253670696178945,
          -1.2623123732472883,
          -0.7575644545592479,
          -0.6017328484528026,
          -0.14662902154213134,
          -0.30107781091972247,
          0.7591965473584978,
          0.22261899173530014,
          -1.67832375907122,
          -1.7886442974483545,
          -2.3328283209777263,
          -0.6433674902811762,
          -2.0776815497987835,
          0.23373695558239038,
          -0.6148391407150366,
          1.1075106907073111,
          -1.1095546635817006,
          -0.9898773268808542,
          -1.5024848431061673,
          -1.7461956137695993,
          -0.5174983115666868,
          -0.8532859611128464,
          -0.18146626906432906,
          1.3975011905266432,
          -2.2556226460731854,
          1.3729034085494947,
          1.7735320399306471,
          -0.8421551348231435,
          -0.9962999976925078,
          -0.7441464592448439
         ],
         "y": [
          -0.4710021215470306,
          -0.37444105741784894,
          -0.7229305374999564,
          -1.4210950057024772,
          -1.1422597111079882,
          1.3067532241636048,
          0.7163304767308214,
          0.017335773796482854,
          0.5688752295326597,
          -0.9021270703323356,
          -0.3129810902806523,
          0.11660969429629961,
          -0.1615926919381889,
          0.7334469670974699,
          -0.6376581718014908,
          1.3948931551127328,
          -2.4737547860811278,
          -2.9585272305993793,
          -1.334807464118234,
          -0.924731101134057,
          -0.3773236597029976,
          0.2782440110093776,
          0.17253753076160147,
          0.28821753626211777,
          0.3307640464263582,
          1.1390663807355252,
          0.4803154037741806,
          -0.3676139075897138,
          0.6307412933977414,
          1.1295871291331212,
          0.7107663064878018,
          -0.3320613640966922,
          0.5533509055427026,
          0.6999269137833976,
          -0.4225541897151542,
          -0.2853758029690036,
          -0.9535904207970599,
          -0.8501438700847614,
          0.41312823598848564,
          0.8920629016275282,
          0.4620558556211019,
          0.3016204116530514,
          0.5734598044511197,
          0.7994850452330314,
          1.2774272384408967,
          0.7105175443722224,
          -0.262594548942972,
          -0.13079253763774207,
          -0.8195463575829938,
          1.920204550001485,
          -0.6953396559305487,
          2.3968840009089285,
          -0.8145509254573787,
          0.02458319522371906,
          -0.18095438948898046,
          2.0101161363057325,
          -0.4534371374100756,
          1.2660490714215253,
          0.8636004813924805,
          0.9578725416212378,
          0.8021627043583688,
          0.1592626751043484,
          0.8342917929991157,
          0.2546416536021755,
          -0.22843924584837827,
          0.9253895521496867,
          -0.2295287022425442,
          1.8017388014348374,
          1.1470106901708272,
          0.26961160030352666,
          0.20820778414298183,
          -0.10190862126567682,
          -0.5262607817553845,
          -1.041108825314571,
          -0.4299044627246813,
          0.0004005216298263224,
          -0.0525263547786417,
          0.5907737728553326,
          0.9580873586453125,
          -0.9694493972140938,
          1.437149038310106,
          0.17167372226603417,
          -0.39231777816372554,
          -0.6593652702711524,
          1.353559447910382,
          -0.3171980872750022,
          0.4856910802970005,
          1.0166571099279542,
          0.22086034291833873,
          0.5906596222916303,
          0.5857354444555204,
          1.4969170486951477,
          -0.2659452485581969,
          -0.12316365355462315,
          -0.6124220361620166,
          0.44340576746673965,
          -0.5680968605322845,
          -0.8915933615197316,
          -0.6657096195034726,
          -0.5593017610378441,
          -0.17986069198525004,
          -0.1420513277195684,
          -0.648076560224563,
          0.8629595259278012,
          -0.46684254541683606,
          -0.420138128957291,
          -1.6267905952441648,
          0.21239716542455,
          -1.6129057153831485,
          0.5820222108043813,
          0.592918675692532,
          -2.143835053130439,
          -0.05682916304335762,
          0.14641858500618785,
          1.52552903517246,
          0.7430266179106337,
          -0.19726765798595683,
          -0.23390655521637352,
          -0.03465845311153402,
          -0.25787680619380865,
          1.9506546217684972,
          -0.04964588921890121,
          0.3554094923806051,
          0.08166740523312653,
          0.47821632637101424,
          0.1532275621289583,
          0.2899080238220039,
          -0.06162450269643863,
          -0.18122809464499118,
          2.5164169815329362,
          -1.3506838761386297,
          -0.35429520486735083,
          -0.5952325223176721,
          -0.2822148152027082,
          0.7616687486810569,
          -0.6658883050818846,
          1.1862787419540517,
          -0.3649259386190545,
          0.02176150874023849,
          -0.33374317534467096,
          -0.5245255875484067,
          0.5283627206258904,
          0.38337428624010933,
          0.47033428865522375,
          0.7633155811170028,
          -0.21496648849978342,
          0.33779624963549787,
          -1.3437399386621856,
          0.3326478287705034,
          -0.9838176954507248,
          0.26470825329233477,
          0.8440580307281694,
          0.5499766696761733,
          -0.6189866799054045,
          -0.9897119552162861,
          -0.25666700282667615,
          0.24217251891464936,
          -0.5736052347228319,
          -0.415737758264935,
          -0.7008530668093551,
          -1.0807635228023686,
          -0.42144268926514994,
          1.1015777654087267,
          0.2569517336288826,
          0.5604082972751644,
          0.2961877858228989,
          -0.21155225106247993,
          0.13893676806527916,
          -0.8988382081805091,
          -1.0705579463998307,
          -0.954874719424314,
          0.15490320590555268,
          0.6364796371169511,
          0.5106846636544613,
          1.673645881905192,
          -0.69129429887128,
          -1.2974569838697836,
          -0.10861711412325227,
          -0.32000077203045746,
          -0.23732222826126195,
          1.7165485472104351,
          1.5727424884814174,
          0.06390484839920783,
          1.3933445418369859,
          1.126166577701763,
          0.34115585459823194,
          0.4831756119102519,
          0.7365122086564239,
          0.07543999641894876,
          -0.21680253310241152,
          -0.3537486287190468,
          -0.6504868768777917,
          -1.011172176629421,
          0.44378805480989464,
          0.27428669409035894,
          -0.7593746023155334,
          -0.822971709475538,
          0.7655787277175325,
          -0.5581624358743845,
          -1.8045482601050415,
          0.8954971083734915,
          -1.0846302176554978,
          -0.7167588798117865,
          -1.6393901923909417,
          -0.15953592527957566,
          -1.8360587381203732,
          -0.4182017823567601,
          -0.8889142679613299,
          1.3672119309575854,
          -0.5784386980075293,
          0.03750293405036833,
          -0.4856235437174604,
          1.0853159412066742,
          -0.1686943055481672,
          -2.1945600222792767,
          0.8117725516354333,
          0.16196037204556954,
          -0.3475497681770752,
          -0.15762041482560907,
          0.9349420324502995,
          2.8050407370187624,
          -0.24392618796458437,
          1.774760360438171,
          1.8975236977966286,
          0.794043600324111,
          0.5276879462109553,
          -0.04126711949658474,
          -0.18060074060721304,
          -1.1787357814974322,
          0.9768894994227072,
          1.3822405303169318,
          -1.043785782147565,
          0.12589541905585533,
          -0.3574598813769079,
          0.7054538504227015,
          0.7771372109838927,
          -0.16444685499780407,
          -0.655117380427802,
          0.34322131911520576,
          0.8761101959427848,
          0.7510080368987178,
          -0.11023040933940981,
          -1.656597490915493,
          0.0804651990958077,
          0.889661931791855,
          0.49865051060207005,
          -0.3335591006726752,
          0.6292000372365856,
          -2.0811231387761593,
          0.8016833118318185
         ],
         "z": [
          0.4856719186106372,
          0.7995296413145626,
          0.847147931907245,
          0.7388925151041722,
          -0.3666257402183401,
          0.3792543653541029,
          -0.6836732693800395,
          0.25905324112833567,
          -0.043243887848623305,
          -0.33646889156710713,
          -2.1614087735635166,
          0.7611679675703795,
          0.7205117790058179,
          1.7675447907386945,
          -1.7677199344710375,
          -2.1340648593660214,
          -1.397268002133056,
          -0.2205908252036207,
          0.10301553236732343,
          -0.4113133323900749,
          -0.2958524330596986,
          1.4217117355737277,
          0.8017694426597628,
          -1.394102544067773,
          0.6187712203413737,
          0.5607785247047335,
          0.2214526311803563,
          0.08840042790583134,
          -0.12699872709780302,
          0.0323350777007219,
          -0.3272733809861458,
          0.2869414470615837,
          -0.3960273155761345,
          0.49685837756830736,
          -0.16896806038378154,
          0.4406792935980274,
          -0.7624336023500128,
          -0.9277344711071436,
          0.016501718336252722,
          -1.986295122287573,
          -0.10977049261484215,
          -1.5251639282404028,
          0.9980402301612223,
          -0.9005355380611489,
          -1.6288482391931545,
          -1.5466103309035117,
          1.5114734254827848,
          0.5192027055027489,
          1.4300605004577946,
          0.38643165014964936,
          0.2133692665416362,
          0.5376626040966406,
          -0.3088707350567091,
          1.7475358525012892,
          0.45952757319883825,
          -2.7041934907562566,
          -0.36993438346018,
          -0.8198520636101002,
          -0.3468335816441727,
          1.2364433916866915,
          -0.9570231197457071,
          0.25731306949111765,
          0.03949402110295723,
          0.989635901584278,
          -0.5703808309569297,
          -0.9981834757085104,
          -0.3496285380557658,
          1.0677006208458242,
          0.6517786054363462,
          -0.04340169503099051,
          0.8672115836198295,
          -0.2340496142465874,
          0.3565044534194072,
          -0.21716334720504096,
          0.5853494103506359,
          0.24638705933150273,
          -0.00829708898809434,
          0.7530130653535461,
          -1.9270449326125838,
          -1.020712370170714,
          0.10181033357630338,
          0.8432685359867506,
          0.48018527128108907,
          0.8099203305280592,
          0.6304625774581606,
          -0.23193433329010038,
          0.42624551080393713,
          -0.26741066692854404,
          0.1552057903222127,
          1.5029201722169634,
          0.13395024203130346,
          1.8277122191816833,
          -1.4313425760381988,
          0.9689730530960443,
          0.7212997528258015,
          0.34661285355846605,
          0.4209428999287498,
          0.7933345673991861,
          -1.0955153849325105,
          0.9304371911651358,
          -1.1902958251422178,
          1.6670660815449727,
          0.43009183754001457,
          0.2279206775068439,
          -2.208908100022893,
          0.6673014450734395,
          -0.9016471299000254,
          -0.5824760572213832,
          0.14216994149060266,
          1.3822618979921275,
          -1.2169231115331247,
          -0.3285648423366668,
          0.1643016916708419,
          -0.8080877711868928,
          -1.5445087076393913,
          0.3108508632716312,
          -0.48786442889623755,
          0.7328215383991757,
          -0.07313582841852487,
          -1.5489962039680103,
          0.6756511159438299,
          0.22373104311693728,
          1.419106449634087,
          -0.09157940604996737,
          -0.6455456498730456,
          0.3702277080091352,
          1.4422823790391424,
          1.2360188261963445,
          -0.3241757044627667,
          -1.9417078162318766,
          0.3353841124540931,
          -1.8888456153073503,
          -0.9191734259156293,
          0.30691972259753175,
          1.4508869880878421,
          1.1201501370170537,
          -0.8997371976084269,
          -0.5105060329243163,
          -0.5892477328049197,
          0.5276605120712746,
          -0.5558603902757215,
          -1.5997905540670336,
          1.2421531696735892,
          -2.283800758411129,
          -0.2621735270814614,
          0.7779166712738981,
          2.1391462063195155,
          0.22593368585076973,
          -0.8833720938545048,
          1.084740802767775,
          0.11745136035894088,
          0.950575796933051,
          0.4953493050641417,
          -0.5884240308280432,
          0.5437376948915292,
          -0.551261481396035,
          -0.17244825874241743,
          1.508117027796026,
          0.34293951073476736,
          -0.050094722241476604,
          -0.4061645637657795,
          -1.2046475846062679,
          -1.4599991266901429,
          -2.973320194322243,
          0.3971762401450462,
          0.07694278615778333,
          1.0035121201108996,
          -0.8691636597761547,
          -1.3512778752397079,
          0.22938014533944243,
          -0.5577326537899981,
          1.4902296721240675,
          0.8387617535809274,
          -2.2158746903650197,
          -1.2086290475655312,
          0.46419866929515974,
          -0.34597836800370296,
          0.6196017570199521,
          1.7901294865623505,
          -0.21928252533297227,
          0.7178348454677327,
          -1.0084256990525837,
          -1.7032225939658558,
          -1.5790406848744394,
          0.026219046718812446,
          -2.0734970357684777,
          1.0959893957474034,
          0.21941117194158152,
          0.6132314021807526,
          -1.1910400379648374,
          -0.935669067021216,
          0.19547499763987947,
          0.4561149974959298,
          -0.01801125053805315,
          0.3674782816992006,
          0.3518009081884255,
          -0.16557538646923312,
          2.2145123151528288,
          0.8392824932681854,
          -0.4794678317128022,
          0.08418091740928532,
          0.7408944284121528,
          0.20517149633302423,
          -0.02084577476209022,
          0.383109394347441,
          -1.236923145081576,
          0.5445405650096898,
          0.5276456446710734,
          0.5286860145435898,
          -0.45978047215667234,
          0.03548697543001594,
          0.7001394846631549,
          -2.8755339594537634,
          0.29278307900609946,
          -0.8662562560143223,
          -0.8245173054102107,
          -0.1497962358572214,
          -1.0429958669535253,
          0.36754469574197973,
          0.16625195116086394,
          -1.4945050949318166,
          -0.7431469125992461,
          0.40280960883241335,
          0.3801864273200017,
          0.3173880668731322,
          -0.09822143721076583,
          0.9851820898739165,
          -1.166254781434739,
          1.0146896470869344,
          -0.046853052016842284,
          -1.7776780294971124,
          0.9118795177923009,
          0.03948034899339873,
          -0.2213651053408814,
          -0.4376768297433914,
          2.302316284659441,
          -1.1162788910562085,
          -0.8405712497620068,
          -0.6925392313946052,
          0.11970552438162133,
          0.012429963931380938,
          0.35337873495301747,
          -0.28998042621799913,
          0.964245457091341,
          -0.03169600413469877,
          1.3294721508342657,
          -1.3690526403899683,
          -0.34496267551510995,
          0.06584427482253405,
          -0.3119537826714991
         ]
        }
       ],
       "layout": {
        "legend": {
         "tracegroupgap": 0
        },
        "margin": {
         "t": 60
        },
        "scene": {
         "domain": {
          "x": [
           0,
           1
          ],
          "y": [
           0,
           1
          ]
         },
         "xaxis": {
          "title": {
           "text": "PC1"
          }
         },
         "yaxis": {
          "title": {
           "text": "PC2"
          }
         },
         "zaxis": {
          "title": {
           "text": "PC3"
          }
         }
        },
        "template": {
         "data": {
          "bar": [
           {
            "error_x": {
             "color": "#2a3f5f"
            },
            "error_y": {
             "color": "#2a3f5f"
            },
            "marker": {
             "line": {
              "color": "#E5ECF6",
              "width": 0.5
             },
             "pattern": {
              "fillmode": "overlay",
              "size": 10,
              "solidity": 0.2
             }
            },
            "type": "bar"
           }
          ],
          "barpolar": [
           {
            "marker": {
             "line": {
              "color": "#E5ECF6",
              "width": 0.5
             },
             "pattern": {
              "fillmode": "overlay",
              "size": 10,
              "solidity": 0.2
             }
            },
            "type": "barpolar"
           }
          ],
          "carpet": [
           {
            "aaxis": {
             "endlinecolor": "#2a3f5f",
             "gridcolor": "white",
             "linecolor": "white",
             "minorgridcolor": "white",
             "startlinecolor": "#2a3f5f"
            },
            "baxis": {
             "endlinecolor": "#2a3f5f",
             "gridcolor": "white",
             "linecolor": "white",
             "minorgridcolor": "white",
             "startlinecolor": "#2a3f5f"
            },
            "type": "carpet"
           }
          ],
          "choropleth": [
           {
            "colorbar": {
             "outlinewidth": 0,
             "ticks": ""
            },
            "type": "choropleth"
           }
          ],
          "contour": [
           {
            "colorbar": {
             "outlinewidth": 0,
             "ticks": ""
            },
            "colorscale": [
             [
              0,
              "#0d0887"
             ],
             [
              0.1111111111111111,
              "#46039f"
             ],
             [
              0.2222222222222222,
              "#7201a8"
             ],
             [
              0.3333333333333333,
              "#9c179e"
             ],
             [
              0.4444444444444444,
              "#bd3786"
             ],
             [
              0.5555555555555556,
              "#d8576b"
             ],
             [
              0.6666666666666666,
              "#ed7953"
             ],
             [
              0.7777777777777778,
              "#fb9f3a"
             ],
             [
              0.8888888888888888,
              "#fdca26"
             ],
             [
              1,
              "#f0f921"
             ]
            ],
            "type": "contour"
           }
          ],
          "contourcarpet": [
           {
            "colorbar": {
             "outlinewidth": 0,
             "ticks": ""
            },
            "type": "contourcarpet"
           }
          ],
          "heatmap": [
           {
            "colorbar": {
             "outlinewidth": 0,
             "ticks": ""
            },
            "colorscale": [
             [
              0,
              "#0d0887"
             ],
             [
              0.1111111111111111,
              "#46039f"
             ],
             [
              0.2222222222222222,
              "#7201a8"
             ],
             [
              0.3333333333333333,
              "#9c179e"
             ],
             [
              0.4444444444444444,
              "#bd3786"
             ],
             [
              0.5555555555555556,
              "#d8576b"
             ],
             [
              0.6666666666666666,
              "#ed7953"
             ],
             [
              0.7777777777777778,
              "#fb9f3a"
             ],
             [
              0.8888888888888888,
              "#fdca26"
             ],
             [
              1,
              "#f0f921"
             ]
            ],
            "type": "heatmap"
           }
          ],
          "heatmapgl": [
           {
            "colorbar": {
             "outlinewidth": 0,
             "ticks": ""
            },
            "colorscale": [
             [
              0,
              "#0d0887"
             ],
             [
              0.1111111111111111,
              "#46039f"
             ],
             [
              0.2222222222222222,
              "#7201a8"
             ],
             [
              0.3333333333333333,
              "#9c179e"
             ],
             [
              0.4444444444444444,
              "#bd3786"
             ],
             [
              0.5555555555555556,
              "#d8576b"
             ],
             [
              0.6666666666666666,
              "#ed7953"
             ],
             [
              0.7777777777777778,
              "#fb9f3a"
             ],
             [
              0.8888888888888888,
              "#fdca26"
             ],
             [
              1,
              "#f0f921"
             ]
            ],
            "type": "heatmapgl"
           }
          ],
          "histogram": [
           {
            "marker": {
             "pattern": {
              "fillmode": "overlay",
              "size": 10,
              "solidity": 0.2
             }
            },
            "type": "histogram"
           }
          ],
          "histogram2d": [
           {
            "colorbar": {
             "outlinewidth": 0,
             "ticks": ""
            },
            "colorscale": [
             [
              0,
              "#0d0887"
             ],
             [
              0.1111111111111111,
              "#46039f"
             ],
             [
              0.2222222222222222,
              "#7201a8"
             ],
             [
              0.3333333333333333,
              "#9c179e"
             ],
             [
              0.4444444444444444,
              "#bd3786"
             ],
             [
              0.5555555555555556,
              "#d8576b"
             ],
             [
              0.6666666666666666,
              "#ed7953"
             ],
             [
              0.7777777777777778,
              "#fb9f3a"
             ],
             [
              0.8888888888888888,
              "#fdca26"
             ],
             [
              1,
              "#f0f921"
             ]
            ],
            "type": "histogram2d"
           }
          ],
          "histogram2dcontour": [
           {
            "colorbar": {
             "outlinewidth": 0,
             "ticks": ""
            },
            "colorscale": [
             [
              0,
              "#0d0887"
             ],
             [
              0.1111111111111111,
              "#46039f"
             ],
             [
              0.2222222222222222,
              "#7201a8"
             ],
             [
              0.3333333333333333,
              "#9c179e"
             ],
             [
              0.4444444444444444,
              "#bd3786"
             ],
             [
              0.5555555555555556,
              "#d8576b"
             ],
             [
              0.6666666666666666,
              "#ed7953"
             ],
             [
              0.7777777777777778,
              "#fb9f3a"
             ],
             [
              0.8888888888888888,
              "#fdca26"
             ],
             [
              1,
              "#f0f921"
             ]
            ],
            "type": "histogram2dcontour"
           }
          ],
          "mesh3d": [
           {
            "colorbar": {
             "outlinewidth": 0,
             "ticks": ""
            },
            "type": "mesh3d"
           }
          ],
          "parcoords": [
           {
            "line": {
             "colorbar": {
              "outlinewidth": 0,
              "ticks": ""
             }
            },
            "type": "parcoords"
           }
          ],
          "pie": [
           {
            "automargin": true,
            "type": "pie"
           }
          ],
          "scatter": [
           {
            "fillpattern": {
             "fillmode": "overlay",
             "size": 10,
             "solidity": 0.2
            },
            "type": "scatter"
           }
          ],
          "scatter3d": [
           {
            "line": {
             "colorbar": {
              "outlinewidth": 0,
              "ticks": ""
             }
            },
            "marker": {
             "colorbar": {
              "outlinewidth": 0,
              "ticks": ""
             }
            },
            "type": "scatter3d"
           }
          ],
          "scattercarpet": [
           {
            "marker": {
             "colorbar": {
              "outlinewidth": 0,
              "ticks": ""
             }
            },
            "type": "scattercarpet"
           }
          ],
          "scattergeo": [
           {
            "marker": {
             "colorbar": {
              "outlinewidth": 0,
              "ticks": ""
             }
            },
            "type": "scattergeo"
           }
          ],
          "scattergl": [
           {
            "marker": {
             "colorbar": {
              "outlinewidth": 0,
              "ticks": ""
             }
            },
            "type": "scattergl"
           }
          ],
          "scattermapbox": [
           {
            "marker": {
             "colorbar": {
              "outlinewidth": 0,
              "ticks": ""
             }
            },
            "type": "scattermapbox"
           }
          ],
          "scatterpolar": [
           {
            "marker": {
             "colorbar": {
              "outlinewidth": 0,
              "ticks": ""
             }
            },
            "type": "scatterpolar"
           }
          ],
          "scatterpolargl": [
           {
            "marker": {
             "colorbar": {
              "outlinewidth": 0,
              "ticks": ""
             }
            },
            "type": "scatterpolargl"
           }
          ],
          "scatterternary": [
           {
            "marker": {
             "colorbar": {
              "outlinewidth": 0,
              "ticks": ""
             }
            },
            "type": "scatterternary"
           }
          ],
          "surface": [
           {
            "colorbar": {
             "outlinewidth": 0,
             "ticks": ""
            },
            "colorscale": [
             [
              0,
              "#0d0887"
             ],
             [
              0.1111111111111111,
              "#46039f"
             ],
             [
              0.2222222222222222,
              "#7201a8"
             ],
             [
              0.3333333333333333,
              "#9c179e"
             ],
             [
              0.4444444444444444,
              "#bd3786"
             ],
             [
              0.5555555555555556,
              "#d8576b"
             ],
             [
              0.6666666666666666,
              "#ed7953"
             ],
             [
              0.7777777777777778,
              "#fb9f3a"
             ],
             [
              0.8888888888888888,
              "#fdca26"
             ],
             [
              1,
              "#f0f921"
             ]
            ],
            "type": "surface"
           }
          ],
          "table": [
           {
            "cells": {
             "fill": {
              "color": "#EBF0F8"
             },
             "line": {
              "color": "white"
             }
            },
            "header": {
             "fill": {
              "color": "#C8D4E3"
             },
             "line": {
              "color": "white"
             }
            },
            "type": "table"
           }
          ]
         },
         "layout": {
          "annotationdefaults": {
           "arrowcolor": "#2a3f5f",
           "arrowhead": 0,
           "arrowwidth": 1
          },
          "autotypenumbers": "strict",
          "coloraxis": {
           "colorbar": {
            "outlinewidth": 0,
            "ticks": ""
           }
          },
          "colorscale": {
           "diverging": [
            [
             0,
             "#8e0152"
            ],
            [
             0.1,
             "#c51b7d"
            ],
            [
             0.2,
             "#de77ae"
            ],
            [
             0.3,
             "#f1b6da"
            ],
            [
             0.4,
             "#fde0ef"
            ],
            [
             0.5,
             "#f7f7f7"
            ],
            [
             0.6,
             "#e6f5d0"
            ],
            [
             0.7,
             "#b8e186"
            ],
            [
             0.8,
             "#7fbc41"
            ],
            [
             0.9,
             "#4d9221"
            ],
            [
             1,
             "#276419"
            ]
           ],
           "sequential": [
            [
             0,
             "#0d0887"
            ],
            [
             0.1111111111111111,
             "#46039f"
            ],
            [
             0.2222222222222222,
             "#7201a8"
            ],
            [
             0.3333333333333333,
             "#9c179e"
            ],
            [
             0.4444444444444444,
             "#bd3786"
            ],
            [
             0.5555555555555556,
             "#d8576b"
            ],
            [
             0.6666666666666666,
             "#ed7953"
            ],
            [
             0.7777777777777778,
             "#fb9f3a"
            ],
            [
             0.8888888888888888,
             "#fdca26"
            ],
            [
             1,
             "#f0f921"
            ]
           ],
           "sequentialminus": [
            [
             0,
             "#0d0887"
            ],
            [
             0.1111111111111111,
             "#46039f"
            ],
            [
             0.2222222222222222,
             "#7201a8"
            ],
            [
             0.3333333333333333,
             "#9c179e"
            ],
            [
             0.4444444444444444,
             "#bd3786"
            ],
            [
             0.5555555555555556,
             "#d8576b"
            ],
            [
             0.6666666666666666,
             "#ed7953"
            ],
            [
             0.7777777777777778,
             "#fb9f3a"
            ],
            [
             0.8888888888888888,
             "#fdca26"
            ],
            [
             1,
             "#f0f921"
            ]
           ]
          },
          "colorway": [
           "#636efa",
           "#EF553B",
           "#00cc96",
           "#ab63fa",
           "#FFA15A",
           "#19d3f3",
           "#FF6692",
           "#B6E880",
           "#FF97FF",
           "#FECB52"
          ],
          "font": {
           "color": "#2a3f5f"
          },
          "geo": {
           "bgcolor": "white",
           "lakecolor": "white",
           "landcolor": "#E5ECF6",
           "showlakes": true,
           "showland": true,
           "subunitcolor": "white"
          },
          "hoverlabel": {
           "align": "left"
          },
          "hovermode": "closest",
          "mapbox": {
           "style": "light"
          },
          "paper_bgcolor": "white",
          "plot_bgcolor": "#E5ECF6",
          "polar": {
           "angularaxis": {
            "gridcolor": "white",
            "linecolor": "white",
            "ticks": ""
           },
           "bgcolor": "#E5ECF6",
           "radialaxis": {
            "gridcolor": "white",
            "linecolor": "white",
            "ticks": ""
           }
          },
          "scene": {
           "xaxis": {
            "backgroundcolor": "#E5ECF6",
            "gridcolor": "white",
            "gridwidth": 2,
            "linecolor": "white",
            "showbackground": true,
            "ticks": "",
            "zerolinecolor": "white"
           },
           "yaxis": {
            "backgroundcolor": "#E5ECF6",
            "gridcolor": "white",
            "gridwidth": 2,
            "linecolor": "white",
            "showbackground": true,
            "ticks": "",
            "zerolinecolor": "white"
           },
           "zaxis": {
            "backgroundcolor": "#E5ECF6",
            "gridcolor": "white",
            "gridwidth": 2,
            "linecolor": "white",
            "showbackground": true,
            "ticks": "",
            "zerolinecolor": "white"
           }
          },
          "shapedefaults": {
           "line": {
            "color": "#2a3f5f"
           }
          },
          "ternary": {
           "aaxis": {
            "gridcolor": "white",
            "linecolor": "white",
            "ticks": ""
           },
           "baxis": {
            "gridcolor": "white",
            "linecolor": "white",
            "ticks": ""
           },
           "bgcolor": "#E5ECF6",
           "caxis": {
            "gridcolor": "white",
            "linecolor": "white",
            "ticks": ""
           }
          },
          "title": {
           "x": 0.05
          },
          "xaxis": {
           "automargin": true,
           "gridcolor": "white",
           "linecolor": "white",
           "ticks": "",
           "title": {
            "standoff": 15
           },
           "zerolinecolor": "white",
           "zerolinewidth": 2
          },
          "yaxis": {
           "automargin": true,
           "gridcolor": "white",
           "linecolor": "white",
           "ticks": "",
           "title": {
            "standoff": 15
           },
           "zerolinecolor": "white",
           "zerolinewidth": 2
          }
         }
        }
       }
      }
     },
     "metadata": {},
     "output_type": "display_data"
    }
   ],
   "source": [
    "fig = px.scatter_3d(pca_df.sample(250), x='PC1', y='PC2', z='PC3')\n",
    "fig.show()\n",
    "\n",
    "# Hypothesis:  The 5-dimensional OCEAN data set can be represented in 3 dimensions visualized by 27 clusters of points in a 3x3x3 cube."
   ]
  },
  {
   "cell_type": "code",
   "execution_count": 132,
   "metadata": {},
   "outputs": [],
   "source": [
    "fig.write_html(\"pca-e-250.html\")"
   ]
  },
  {
   "cell_type": "code",
   "execution_count": null,
   "metadata": {},
   "outputs": [],
   "source": []
  }
 ],
 "metadata": {
  "kernelspec": {
   "display_name": "dsc80_39",
   "language": "python",
   "name": "python3"
  },
  "language_info": {
   "codemirror_mode": {
    "name": "ipython",
    "version": 3
   },
   "file_extension": ".py",
   "mimetype": "text/x-python",
   "name": "python",
   "nbconvert_exporter": "python",
   "pygments_lexer": "ipython3",
   "version": "3.8.16"
  },
  "orig_nbformat": 4
 },
 "nbformat": 4,
 "nbformat_minor": 2
}
